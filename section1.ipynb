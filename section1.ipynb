{
  "nbformat": 4,
  "nbformat_minor": 0,
  "metadata": {
    "colab": {
      "name": "section1.ipynb",
      "provenance": [],
      "collapsed_sections": []
    },
    "kernelspec": {
      "name": "python3",
      "display_name": "Python 3"
    },
    "language_info": {
      "name": "python"
    }
  },
  "cells": [
    {
      "cell_type": "code",
      "metadata": {
        "id": "52kCnT9zVqA-"
      },
      "source": [
        "import numpy as np\n",
        "import pandas as pd\n",
        "import matplotlib.pyplot as plot\n",
        "\n",
        "from google.colab import drive\n",
        "drive.mount(\"/content/drive\")"
      ],
      "execution_count": null,
      "outputs": []
    },
    {
      "cell_type": "code",
      "metadata": {
        "id": "ByF69-a-V0aP"
      },
      "source": [
        "#import table\n",
        "country_region = pd.read_csv(\"/content/drive/My Drive/Colab Notebooks/country_region.csv\")\n",
        "\n",
        "cdo = pd.read_csv(\"/content/drive/My Drive/Colab Notebooks/CDO_raw_na.csv\")\n",
        "pmd = pd.read_csv(\"/content/drive/My Drive/Colab Notebooks/PMD_raw_na.csv\")\n",
        "gdp = pd.read_csv(\"/content/drive/My Drive/Colab Notebooks/GDP_raw_na.csv\")"
      ],
      "execution_count": null,
      "outputs": []
    },
    {
      "cell_type": "code",
      "metadata": {
        "colab": {
          "base_uri": "https://localhost:8080/",
          "height": 424
        },
        "id": "IO8Eg6l-W6du",
        "outputId": "6527003a-3a0a-4b4a-811f-f5cbd311358f"
      },
      "source": [
        "country_region"
      ],
      "execution_count": null,
      "outputs": [
        {
          "output_type": "execute_result",
          "data": {
            "text/html": [
              "<div>\n",
              "<style scoped>\n",
              "    .dataframe tbody tr th:only-of-type {\n",
              "        vertical-align: middle;\n",
              "    }\n",
              "\n",
              "    .dataframe tbody tr th {\n",
              "        vertical-align: top;\n",
              "    }\n",
              "\n",
              "    .dataframe thead th {\n",
              "        text-align: right;\n",
              "    }\n",
              "</style>\n",
              "<table border=\"1\" class=\"dataframe\">\n",
              "  <thead>\n",
              "    <tr style=\"text-align: right;\">\n",
              "      <th></th>\n",
              "      <th>code</th>\n",
              "      <th>iso</th>\n",
              "      <th>country</th>\n",
              "      <th>region</th>\n",
              "    </tr>\n",
              "  </thead>\n",
              "  <tbody>\n",
              "    <tr>\n",
              "      <th>0</th>\n",
              "      <td>4</td>\n",
              "      <td>AFG</td>\n",
              "      <td>Afghanistan</td>\n",
              "      <td>Southern Asia</td>\n",
              "    </tr>\n",
              "    <tr>\n",
              "      <th>1</th>\n",
              "      <td>8</td>\n",
              "      <td>ALB</td>\n",
              "      <td>Albania</td>\n",
              "      <td>Eastern Europe</td>\n",
              "    </tr>\n",
              "    <tr>\n",
              "      <th>2</th>\n",
              "      <td>12</td>\n",
              "      <td>DZA</td>\n",
              "      <td>Algeria</td>\n",
              "      <td>Greater Middle East</td>\n",
              "    </tr>\n",
              "    <tr>\n",
              "      <th>3</th>\n",
              "      <td>20</td>\n",
              "      <td>AND</td>\n",
              "      <td>Andorra</td>\n",
              "      <td>Global West</td>\n",
              "    </tr>\n",
              "    <tr>\n",
              "      <th>4</th>\n",
              "      <td>24</td>\n",
              "      <td>AGO</td>\n",
              "      <td>Angola</td>\n",
              "      <td>Sub-Saharan Africa</td>\n",
              "    </tr>\n",
              "    <tr>\n",
              "      <th>...</th>\n",
              "      <td>...</td>\n",
              "      <td>...</td>\n",
              "      <td>...</td>\n",
              "      <td>...</td>\n",
              "    </tr>\n",
              "    <tr>\n",
              "      <th>215</th>\n",
              "      <td>876</td>\n",
              "      <td>WLF</td>\n",
              "      <td>Wallis and Futuna Islands</td>\n",
              "      <td>Asia-Pacific</td>\n",
              "    </tr>\n",
              "    <tr>\n",
              "      <th>216</th>\n",
              "      <td>732</td>\n",
              "      <td>ESH</td>\n",
              "      <td>Western Sahara</td>\n",
              "      <td>Greater Middle East</td>\n",
              "    </tr>\n",
              "    <tr>\n",
              "      <th>217</th>\n",
              "      <td>887</td>\n",
              "      <td>YEM</td>\n",
              "      <td>Yemen</td>\n",
              "      <td>Greater Middle East</td>\n",
              "    </tr>\n",
              "    <tr>\n",
              "      <th>218</th>\n",
              "      <td>894</td>\n",
              "      <td>ZMB</td>\n",
              "      <td>Zambia</td>\n",
              "      <td>Sub-Saharan Africa</td>\n",
              "    </tr>\n",
              "    <tr>\n",
              "      <th>219</th>\n",
              "      <td>716</td>\n",
              "      <td>ZWE</td>\n",
              "      <td>Zimbabwe</td>\n",
              "      <td>Sub-Saharan Africa</td>\n",
              "    </tr>\n",
              "  </tbody>\n",
              "</table>\n",
              "<p>220 rows × 4 columns</p>\n",
              "</div>"
            ],
            "text/plain": [
              "     code  iso                    country               region\n",
              "0       4  AFG                Afghanistan        Southern Asia\n",
              "1       8  ALB                    Albania       Eastern Europe\n",
              "2      12  DZA                    Algeria  Greater Middle East\n",
              "3      20  AND                    Andorra          Global West\n",
              "4      24  AGO                     Angola   Sub-Saharan Africa\n",
              "..    ...  ...                        ...                  ...\n",
              "215   876  WLF  Wallis and Futuna Islands         Asia-Pacific\n",
              "216   732  ESH             Western Sahara  Greater Middle East\n",
              "217   887  YEM                      Yemen  Greater Middle East\n",
              "218   894  ZMB                     Zambia   Sub-Saharan Africa\n",
              "219   716  ZWE                   Zimbabwe   Sub-Saharan Africa\n",
              "\n",
              "[220 rows x 4 columns]"
            ]
          },
          "metadata": {
            "tags": []
          },
          "execution_count": 5
        }
      ]
    },
    {
      "cell_type": "code",
      "metadata": {
        "colab": {
          "base_uri": "https://localhost:8080/",
          "height": 424
        },
        "id": "zEgpGE9JW_0g",
        "outputId": "989a0e2b-e4e6-4291-85cd-4d87f27ce075"
      },
      "source": [
        "pmd_melted = pmd.melt(id_vars=['code', 'iso', 'country'], var_name='year', value_name='value')\n",
        "pmd_melted['year'] = pmd_melted['year'].str.split('.').apply(lambda r: r[2])\n",
        "pmd_plot_line=pmd_melted.merge(country_region, left_on='code', right_on='code').groupby([\"region\",\"year\"], as_index=False).sum().drop(['code'], axis=1)\n",
        "pmd_plot_line"
      ],
      "execution_count": null,
      "outputs": [
        {
          "output_type": "execute_result",
          "data": {
            "text/html": [
              "<div>\n",
              "<style scoped>\n",
              "    .dataframe tbody tr th:only-of-type {\n",
              "        vertical-align: middle;\n",
              "    }\n",
              "\n",
              "    .dataframe tbody tr th {\n",
              "        vertical-align: top;\n",
              "    }\n",
              "\n",
              "    .dataframe thead th {\n",
              "        text-align: right;\n",
              "    }\n",
              "</style>\n",
              "<table border=\"1\" class=\"dataframe\">\n",
              "  <thead>\n",
              "    <tr style=\"text-align: right;\">\n",
              "      <th></th>\n",
              "      <th>region</th>\n",
              "      <th>year</th>\n",
              "      <th>value</th>\n",
              "    </tr>\n",
              "  </thead>\n",
              "  <tbody>\n",
              "    <tr>\n",
              "      <th>0</th>\n",
              "      <td>Asia-Pacific</td>\n",
              "      <td>1990</td>\n",
              "      <td>28672.0678</td>\n",
              "    </tr>\n",
              "    <tr>\n",
              "      <th>1</th>\n",
              "      <td>Asia-Pacific</td>\n",
              "      <td>1991</td>\n",
              "      <td>0.0000</td>\n",
              "    </tr>\n",
              "    <tr>\n",
              "      <th>2</th>\n",
              "      <td>Asia-Pacific</td>\n",
              "      <td>1992</td>\n",
              "      <td>0.0000</td>\n",
              "    </tr>\n",
              "    <tr>\n",
              "      <th>3</th>\n",
              "      <td>Asia-Pacific</td>\n",
              "      <td>1993</td>\n",
              "      <td>0.0000</td>\n",
              "    </tr>\n",
              "    <tr>\n",
              "      <th>4</th>\n",
              "      <td>Asia-Pacific</td>\n",
              "      <td>1994</td>\n",
              "      <td>0.0000</td>\n",
              "    </tr>\n",
              "    <tr>\n",
              "      <th>...</th>\n",
              "      <td>...</td>\n",
              "      <td>...</td>\n",
              "      <td>...</td>\n",
              "    </tr>\n",
              "    <tr>\n",
              "      <th>235</th>\n",
              "      <td>Sub-Saharan Africa</td>\n",
              "      <td>2015</td>\n",
              "      <td>60350.6537</td>\n",
              "    </tr>\n",
              "    <tr>\n",
              "      <th>236</th>\n",
              "      <td>Sub-Saharan Africa</td>\n",
              "      <td>2016</td>\n",
              "      <td>0.0000</td>\n",
              "    </tr>\n",
              "    <tr>\n",
              "      <th>237</th>\n",
              "      <td>Sub-Saharan Africa</td>\n",
              "      <td>2017</td>\n",
              "      <td>0.0000</td>\n",
              "    </tr>\n",
              "    <tr>\n",
              "      <th>238</th>\n",
              "      <td>Sub-Saharan Africa</td>\n",
              "      <td>2018</td>\n",
              "      <td>0.0000</td>\n",
              "    </tr>\n",
              "    <tr>\n",
              "      <th>239</th>\n",
              "      <td>Sub-Saharan Africa</td>\n",
              "      <td>2019</td>\n",
              "      <td>58544.7940</td>\n",
              "    </tr>\n",
              "  </tbody>\n",
              "</table>\n",
              "<p>240 rows × 3 columns</p>\n",
              "</div>"
            ],
            "text/plain": [
              "                 region  year       value\n",
              "0          Asia-Pacific  1990  28672.0678\n",
              "1          Asia-Pacific  1991      0.0000\n",
              "2          Asia-Pacific  1992      0.0000\n",
              "3          Asia-Pacific  1993      0.0000\n",
              "4          Asia-Pacific  1994      0.0000\n",
              "..                  ...   ...         ...\n",
              "235  Sub-Saharan Africa  2015  60350.6537\n",
              "236  Sub-Saharan Africa  2016      0.0000\n",
              "237  Sub-Saharan Africa  2017      0.0000\n",
              "238  Sub-Saharan Africa  2018      0.0000\n",
              "239  Sub-Saharan Africa  2019  58544.7940\n",
              "\n",
              "[240 rows x 3 columns]"
            ]
          },
          "metadata": {
            "tags": []
          },
          "execution_count": 55
        }
      ]
    },
    {
      "cell_type": "code",
      "metadata": {
        "colab": {
          "base_uri": "https://localhost:8080/",
          "height": 296
        },
        "id": "gWZZD_DRdkx4",
        "outputId": "12d5d5d6-bf17-4819-eae6-1eef9a209412"
      },
      "source": [
        "pmd_plot_line.pivot(index='year', columns=['region'], values='value').plot.line()"
      ],
      "execution_count": null,
      "outputs": [
        {
          "output_type": "execute_result",
          "data": {
            "text/plain": [
              "<matplotlib.axes._subplots.AxesSubplot at 0x7f10cc6bbb50>"
            ]
          },
          "metadata": {
            "tags": []
          },
          "execution_count": 70
        },
        {
          "output_type": "display_data",
          "data": {
            "image/png": "[encoded data removed]",
            "text/plain": [
              "<Figure size 432x288 with 1 Axes>"
            ]
          },
          "metadata": {
            "tags": [],
            "needs_background": "light"
          }
        }
      ]
    },
    {
      "cell_type": "code",
      "metadata": {
        "colab": {
          "base_uri": "https://localhost:8080/",
          "height": 424
        },
        "id": "KsQxsaDzhCqS",
        "outputId": "108e417c-f5d1-4f85-c6a3-d84a4d4aaca8"
      },
      "source": [
        "cdo_melted = cdo.melt(id_vars=['code', 'iso', 'country'], var_name='year', value_name='value')\n",
        "cdo_melted['year'] = cdo_melted['year'].str.split('.').apply(lambda r: r[2])\n",
        "cdo_plot_line=cdo_melted.merge(country_region, left_on='code', right_on='code').groupby([\"region\",\"year\"], as_index=False).sum().drop(['code'], axis=1)\n",
        "cdo_plot_line"
      ],
      "execution_count": null,
      "outputs": [
        {
          "output_type": "execute_result",
          "data": {
            "text/html": [
              "<div>\n",
              "<style scoped>\n",
              "    .dataframe tbody tr th:only-of-type {\n",
              "        vertical-align: middle;\n",
              "    }\n",
              "\n",
              "    .dataframe tbody tr th {\n",
              "        vertical-align: top;\n",
              "    }\n",
              "\n",
              "    .dataframe thead th {\n",
              "        text-align: right;\n",
              "    }\n",
              "</style>\n",
              "<table border=\"1\" class=\"dataframe\">\n",
              "  <thead>\n",
              "    <tr style=\"text-align: right;\">\n",
              "      <th></th>\n",
              "      <th>region</th>\n",
              "      <th>year</th>\n",
              "      <th>value</th>\n",
              "    </tr>\n",
              "  </thead>\n",
              "  <tbody>\n",
              "    <tr>\n",
              "      <th>0</th>\n",
              "      <td>Asia-Pacific</td>\n",
              "      <td>1850</td>\n",
              "      <td>357.5479</td>\n",
              "    </tr>\n",
              "    <tr>\n",
              "      <th>1</th>\n",
              "      <td>Asia-Pacific</td>\n",
              "      <td>1851</td>\n",
              "      <td>376.5377</td>\n",
              "    </tr>\n",
              "    <tr>\n",
              "      <th>2</th>\n",
              "      <td>Asia-Pacific</td>\n",
              "      <td>1852</td>\n",
              "      <td>396.4435</td>\n",
              "    </tr>\n",
              "    <tr>\n",
              "      <th>3</th>\n",
              "      <td>Asia-Pacific</td>\n",
              "      <td>1853</td>\n",
              "      <td>418.1673</td>\n",
              "    </tr>\n",
              "    <tr>\n",
              "      <th>4</th>\n",
              "      <td>Asia-Pacific</td>\n",
              "      <td>1854</td>\n",
              "      <td>441.9146</td>\n",
              "    </tr>\n",
              "    <tr>\n",
              "      <th>...</th>\n",
              "      <td>...</td>\n",
              "      <td>...</td>\n",
              "      <td>...</td>\n",
              "    </tr>\n",
              "    <tr>\n",
              "      <th>1339</th>\n",
              "      <td>Sub-Saharan Africa</td>\n",
              "      <td>2013</td>\n",
              "      <td>841629.0000</td>\n",
              "    </tr>\n",
              "    <tr>\n",
              "      <th>1340</th>\n",
              "      <td>Sub-Saharan Africa</td>\n",
              "      <td>2014</td>\n",
              "      <td>880674.0000</td>\n",
              "    </tr>\n",
              "    <tr>\n",
              "      <th>1341</th>\n",
              "      <td>Sub-Saharan Africa</td>\n",
              "      <td>2015</td>\n",
              "      <td>891869.0000</td>\n",
              "    </tr>\n",
              "    <tr>\n",
              "      <th>1342</th>\n",
              "      <td>Sub-Saharan Africa</td>\n",
              "      <td>2016</td>\n",
              "      <td>908497.0000</td>\n",
              "    </tr>\n",
              "    <tr>\n",
              "      <th>1343</th>\n",
              "      <td>Sub-Saharan Africa</td>\n",
              "      <td>2017</td>\n",
              "      <td>910802.0000</td>\n",
              "    </tr>\n",
              "  </tbody>\n",
              "</table>\n",
              "<p>1344 rows × 3 columns</p>\n",
              "</div>"
            ],
            "text/plain": [
              "                  region  year        value\n",
              "0           Asia-Pacific  1850     357.5479\n",
              "1           Asia-Pacific  1851     376.5377\n",
              "2           Asia-Pacific  1852     396.4435\n",
              "3           Asia-Pacific  1853     418.1673\n",
              "4           Asia-Pacific  1854     441.9146\n",
              "...                  ...   ...          ...\n",
              "1339  Sub-Saharan Africa  2013  841629.0000\n",
              "1340  Sub-Saharan Africa  2014  880674.0000\n",
              "1341  Sub-Saharan Africa  2015  891869.0000\n",
              "1342  Sub-Saharan Africa  2016  908497.0000\n",
              "1343  Sub-Saharan Africa  2017  910802.0000\n",
              "\n",
              "[1344 rows x 3 columns]"
            ]
          },
          "metadata": {
            "tags": []
          },
          "execution_count": 72
        }
      ]
    },
    {
      "cell_type": "code",
      "metadata": {
        "colab": {
          "base_uri": "https://localhost:8080/",
          "height": 307
        },
        "id": "GGg4WQBenkmy",
        "outputId": "960e4781-7c35-4d2c-9020-dac66167573f"
      },
      "source": [
        "cdo_plot_line.pivot(index='year', columns=['region'], values='value').plot.line()"
      ],
      "execution_count": null,
      "outputs": [
        {
          "output_type": "execute_result",
          "data": {
            "text/plain": [
              "<matplotlib.axes._subplots.AxesSubplot at 0x7f10c9ece510>"
            ]
          },
          "metadata": {
            "tags": []
          },
          "execution_count": 73
        },
        {
          "output_type": "display_data",
          "data": {
            "image/png": "[encoded data removed]",
            "text/plain": [
              "<Figure size 432x288 with 1 Axes>"
            ]
          },
          "metadata": {
            "tags": [],
            "needs_background": "light"
          }
        }
      ]
    },
    {
      "cell_type": "code",
      "metadata": {
        "colab": {
          "base_uri": "https://localhost:8080/",
          "height": 455
        },
        "id": "xaAPyJFInrBl",
        "outputId": "05f7b199-fd3d-4a06-84bc-cfde44c33053"
      },
      "source": [
        "gdp_melted = gdp.melt(id_vars=['code', 'iso', 'country'], var_name='year', value_name='value')\n",
        "gdp_melted['year'] = gdp_melted['year'].str.split('.').apply(lambda r: r[2])\n",
        "pmd_country=pmd_melted.merge(country_region, left_on='code', right_on='code').groupby(by=[\"country_x\"]).sum()\n",
        "pmd_country"
      ],
      "execution_count": null,
      "outputs": [
        {
          "output_type": "execute_result",
          "data": {
            "text/html": [
              "<div>\n",
              "<style scoped>\n",
              "    .dataframe tbody tr th:only-of-type {\n",
              "        vertical-align: middle;\n",
              "    }\n",
              "\n",
              "    .dataframe tbody tr th {\n",
              "        vertical-align: top;\n",
              "    }\n",
              "\n",
              "    .dataframe thead th {\n",
              "        text-align: right;\n",
              "    }\n",
              "</style>\n",
              "<table border=\"1\" class=\"dataframe\">\n",
              "  <thead>\n",
              "    <tr style=\"text-align: right;\">\n",
              "      <th></th>\n",
              "      <th>code</th>\n",
              "      <th>value</th>\n",
              "    </tr>\n",
              "    <tr>\n",
              "      <th>country_x</th>\n",
              "      <th></th>\n",
              "      <th></th>\n",
              "    </tr>\n",
              "  </thead>\n",
              "  <tbody>\n",
              "    <tr>\n",
              "      <th>Afghanistan</th>\n",
              "      <td>120</td>\n",
              "      <td>6400.1827</td>\n",
              "    </tr>\n",
              "    <tr>\n",
              "      <th>Albania</th>\n",
              "      <td>240</td>\n",
              "      <td>4915.7865</td>\n",
              "    </tr>\n",
              "    <tr>\n",
              "      <th>Algeria</th>\n",
              "      <td>360</td>\n",
              "      <td>10799.3070</td>\n",
              "    </tr>\n",
              "    <tr>\n",
              "      <th>Andorra</th>\n",
              "      <td>600</td>\n",
              "      <td>1480.0239</td>\n",
              "    </tr>\n",
              "    <tr>\n",
              "      <th>Angola</th>\n",
              "      <td>720</td>\n",
              "      <td>4673.5667</td>\n",
              "    </tr>\n",
              "    <tr>\n",
              "      <th>...</th>\n",
              "      <td>...</td>\n",
              "      <td>...</td>\n",
              "    </tr>\n",
              "    <tr>\n",
              "      <th>Wallis and Futuna Islands</th>\n",
              "      <td>26280</td>\n",
              "      <td>0.0000</td>\n",
              "    </tr>\n",
              "    <tr>\n",
              "      <th>Western Sahara</th>\n",
              "      <td>21960</td>\n",
              "      <td>0.0000</td>\n",
              "    </tr>\n",
              "    <tr>\n",
              "      <th>Yemen</th>\n",
              "      <td>26610</td>\n",
              "      <td>8475.1240</td>\n",
              "    </tr>\n",
              "    <tr>\n",
              "      <th>Zambia</th>\n",
              "      <td>26820</td>\n",
              "      <td>4619.6080</td>\n",
              "    </tr>\n",
              "    <tr>\n",
              "      <th>Zimbabwe</th>\n",
              "      <td>21480</td>\n",
              "      <td>5074.3008</td>\n",
              "    </tr>\n",
              "  </tbody>\n",
              "</table>\n",
              "<p>220 rows × 2 columns</p>\n",
              "</div>"
            ],
            "text/plain": [
              "                            code       value\n",
              "country_x                                   \n",
              "Afghanistan                  120   6400.1827\n",
              "Albania                      240   4915.7865\n",
              "Algeria                      360  10799.3070\n",
              "Andorra                      600   1480.0239\n",
              "Angola                       720   4673.5667\n",
              "...                          ...         ...\n",
              "Wallis and Futuna Islands  26280      0.0000\n",
              "Western Sahara             21960      0.0000\n",
              "Yemen                      26610   8475.1240\n",
              "Zambia                     26820   4619.6080\n",
              "Zimbabwe                   21480   5074.3008\n",
              "\n",
              "[220 rows x 2 columns]"
            ]
          },
          "metadata": {
            "tags": []
          },
          "execution_count": 93
        }
      ]
    },
    {
      "cell_type": "code",
      "metadata": {
        "colab": {
          "base_uri": "https://localhost:8080/",
          "height": 455
        },
        "id": "f6k0Bt--pNKv",
        "outputId": "6b160687-689b-4c94-d11a-186429add735"
      },
      "source": [
        "cdo_melted = cdo.melt(id_vars=['code', 'iso', 'country'], var_name='year', value_name='value')\n",
        "cdo_melted['year'] = cdo_melted['year'].str.split('.').apply(lambda r: r[2])\n",
        "cdo_country=cdo_melted.merge(country_region, left_on='code', right_on='code').groupby(by=[\"country_x\"]).sum()\n",
        "cdo_country"
      ],
      "execution_count": null,
      "outputs": [
        {
          "output_type": "execute_result",
          "data": {
            "text/html": [
              "<div>\n",
              "<style scoped>\n",
              "    .dataframe tbody tr th:only-of-type {\n",
              "        vertical-align: middle;\n",
              "    }\n",
              "\n",
              "    .dataframe tbody tr th {\n",
              "        vertical-align: top;\n",
              "    }\n",
              "\n",
              "    .dataframe thead th {\n",
              "        text-align: right;\n",
              "    }\n",
              "</style>\n",
              "<table border=\"1\" class=\"dataframe\">\n",
              "  <thead>\n",
              "    <tr style=\"text-align: right;\">\n",
              "      <th></th>\n",
              "      <th>code</th>\n",
              "      <th>value</th>\n",
              "    </tr>\n",
              "    <tr>\n",
              "      <th>country_x</th>\n",
              "      <th></th>\n",
              "      <th></th>\n",
              "    </tr>\n",
              "  </thead>\n",
              "  <tbody>\n",
              "    <tr>\n",
              "      <th>Afghanistan</th>\n",
              "      <td>672</td>\n",
              "      <td>194195.101</td>\n",
              "    </tr>\n",
              "    <tr>\n",
              "      <th>Albania</th>\n",
              "      <td>1344</td>\n",
              "      <td>299800.570</td>\n",
              "    </tr>\n",
              "    <tr>\n",
              "      <th>Algeria</th>\n",
              "      <td>2016</td>\n",
              "      <td>4200946.580</td>\n",
              "    </tr>\n",
              "    <tr>\n",
              "      <th>Andorra</th>\n",
              "      <td>3360</td>\n",
              "      <td>33245.070</td>\n",
              "    </tr>\n",
              "    <tr>\n",
              "      <th>Angola</th>\n",
              "      <td>4032</td>\n",
              "      <td>636086.300</td>\n",
              "    </tr>\n",
              "    <tr>\n",
              "      <th>...</th>\n",
              "      <td>...</td>\n",
              "      <td>...</td>\n",
              "    </tr>\n",
              "    <tr>\n",
              "      <th>Wallis and Futuna Islands</th>\n",
              "      <td>147168</td>\n",
              "      <td>0.000</td>\n",
              "    </tr>\n",
              "    <tr>\n",
              "      <th>Western Sahara</th>\n",
              "      <td>122976</td>\n",
              "      <td>0.000</td>\n",
              "    </tr>\n",
              "    <tr>\n",
              "      <th>Yemen</th>\n",
              "      <td>149016</td>\n",
              "      <td>694978.580</td>\n",
              "    </tr>\n",
              "    <tr>\n",
              "      <th>Zambia</th>\n",
              "      <td>150192</td>\n",
              "      <td>314809.000</td>\n",
              "    </tr>\n",
              "    <tr>\n",
              "      <th>Zimbabwe</th>\n",
              "      <td>120288</td>\n",
              "      <td>828572.470</td>\n",
              "    </tr>\n",
              "  </tbody>\n",
              "</table>\n",
              "<p>220 rows × 2 columns</p>\n",
              "</div>"
            ],
            "text/plain": [
              "                             code        value\n",
              "country_x                                     \n",
              "Afghanistan                   672   194195.101\n",
              "Albania                      1344   299800.570\n",
              "Algeria                      2016  4200946.580\n",
              "Andorra                      3360    33245.070\n",
              "Angola                       4032   636086.300\n",
              "...                           ...          ...\n",
              "Wallis and Futuna Islands  147168        0.000\n",
              "Western Sahara             122976        0.000\n",
              "Yemen                      149016   694978.580\n",
              "Zambia                     150192   314809.000\n",
              "Zimbabwe                   120288   828572.470\n",
              "\n",
              "[220 rows x 2 columns]"
            ]
          },
          "metadata": {
            "tags": []
          },
          "execution_count": 91
        }
      ]
    },
    {
      "cell_type": "code",
      "metadata": {
        "colab": {
          "base_uri": "https://localhost:8080/",
          "height": 455
        },
        "id": "JUp5Ps4MqNnB",
        "outputId": "2ea2bb97-4eaf-4622-a077-c3cace1f2746"
      },
      "source": [
        "gdp_melted = gdp.melt(id_vars=['code', 'iso', 'country'], var_name='year', value_name='value')\n",
        "gdp_melted['year'] = gdp_melted['year'].str.split('.').apply(lambda r: r[2])\n",
        "gdp_country=gdp_melted.merge(country_region, left_on='code', right_on='code').groupby(by=[\"country_x\"]).sum()\n",
        "gdp_country"
      ],
      "execution_count": null,
      "outputs": [
        {
          "output_type": "execute_result",
          "data": {
            "text/html": [
              "<div>\n",
              "<style scoped>\n",
              "    .dataframe tbody tr th:only-of-type {\n",
              "        vertical-align: middle;\n",
              "    }\n",
              "\n",
              "    .dataframe tbody tr th {\n",
              "        vertical-align: top;\n",
              "    }\n",
              "\n",
              "    .dataframe thead th {\n",
              "        text-align: right;\n",
              "    }\n",
              "</style>\n",
              "<table border=\"1\" class=\"dataframe\">\n",
              "  <thead>\n",
              "    <tr style=\"text-align: right;\">\n",
              "      <th></th>\n",
              "      <th>code</th>\n",
              "      <th>value</th>\n",
              "    </tr>\n",
              "    <tr>\n",
              "      <th>country_x</th>\n",
              "      <th></th>\n",
              "      <th></th>\n",
              "    </tr>\n",
              "  </thead>\n",
              "  <tbody>\n",
              "    <tr>\n",
              "      <th>Afghanistan</th>\n",
              "      <td>120</td>\n",
              "      <td>7.653905e+11</td>\n",
              "    </tr>\n",
              "    <tr>\n",
              "      <th>Albania</th>\n",
              "      <td>240</td>\n",
              "      <td>6.320436e+11</td>\n",
              "    </tr>\n",
              "    <tr>\n",
              "      <th>Algeria</th>\n",
              "      <td>360</td>\n",
              "      <td>1.138767e+13</td>\n",
              "    </tr>\n",
              "    <tr>\n",
              "      <th>Andorra</th>\n",
              "      <td>600</td>\n",
              "      <td>0.000000e+00</td>\n",
              "    </tr>\n",
              "    <tr>\n",
              "      <th>Angola</th>\n",
              "      <td>720</td>\n",
              "      <td>3.070059e+12</td>\n",
              "    </tr>\n",
              "    <tr>\n",
              "      <th>...</th>\n",
              "      <td>...</td>\n",
              "      <td>...</td>\n",
              "    </tr>\n",
              "    <tr>\n",
              "      <th>Wallis and Futuna Islands</th>\n",
              "      <td>26280</td>\n",
              "      <td>0.000000e+00</td>\n",
              "    </tr>\n",
              "    <tr>\n",
              "      <th>Western Sahara</th>\n",
              "      <td>21960</td>\n",
              "      <td>0.000000e+00</td>\n",
              "    </tr>\n",
              "    <tr>\n",
              "      <th>Yemen</th>\n",
              "      <td>26610</td>\n",
              "      <td>2.136614e+12</td>\n",
              "    </tr>\n",
              "    <tr>\n",
              "      <th>Zambia</th>\n",
              "      <td>26820</td>\n",
              "      <td>9.966377e+11</td>\n",
              "    </tr>\n",
              "    <tr>\n",
              "      <th>Zimbabwe</th>\n",
              "      <td>21480</td>\n",
              "      <td>8.821068e+11</td>\n",
              "    </tr>\n",
              "  </tbody>\n",
              "</table>\n",
              "<p>220 rows × 2 columns</p>\n",
              "</div>"
            ],
            "text/plain": [
              "                            code         value\n",
              "country_x                                     \n",
              "Afghanistan                  120  7.653905e+11\n",
              "Albania                      240  6.320436e+11\n",
              "Algeria                      360  1.138767e+13\n",
              "Andorra                      600  0.000000e+00\n",
              "Angola                       720  3.070059e+12\n",
              "...                          ...           ...\n",
              "Wallis and Futuna Islands  26280  0.000000e+00\n",
              "Western Sahara             21960  0.000000e+00\n",
              "Yemen                      26610  2.136614e+12\n",
              "Zambia                     26820  9.966377e+11\n",
              "Zimbabwe                   21480  8.821068e+11\n",
              "\n",
              "[220 rows x 2 columns]"
            ]
          },
          "metadata": {
            "tags": []
          },
          "execution_count": 92
        }
      ]
    },
    {
      "cell_type": "code",
      "metadata": {
        "colab": {
          "base_uri": "https://localhost:8080/",
          "height": 455
        },
        "id": "uNkvw-PxrQUz",
        "outputId": "8690b561-f3c0-440b-d7f7-bfccc8c7d1c9"
      },
      "source": [
        "gdp_cdo_pmd=pd.merge(pd.merge(cdo_country,pmd_country,on=\"country_x\"),gdp_country,on=\"country_x\")\n",
        "gdp_cdo_pmd.rename(columns = {'code_x':'code_cdo', 'value_x':'value_cdo',\n",
        "                              'code_y':'code_pmd','value_y':'value_pmd',\n",
        "                              'code':'code_gdp','value':'value_gdp'}, inplace = True)\n",
        "gdp_cdo_pmd"
      ],
      "execution_count": null,
      "outputs": [
        {
          "output_type": "execute_result",
          "data": {
            "text/html": [
              "<div>\n",
              "<style scoped>\n",
              "    .dataframe tbody tr th:only-of-type {\n",
              "        vertical-align: middle;\n",
              "    }\n",
              "\n",
              "    .dataframe tbody tr th {\n",
              "        vertical-align: top;\n",
              "    }\n",
              "\n",
              "    .dataframe thead th {\n",
              "        text-align: right;\n",
              "    }\n",
              "</style>\n",
              "<table border=\"1\" class=\"dataframe\">\n",
              "  <thead>\n",
              "    <tr style=\"text-align: right;\">\n",
              "      <th></th>\n",
              "      <th>code_cdo</th>\n",
              "      <th>value_cdo</th>\n",
              "      <th>code_pmd</th>\n",
              "      <th>value_pmd</th>\n",
              "      <th>code_gdp</th>\n",
              "      <th>value_gdp</th>\n",
              "    </tr>\n",
              "    <tr>\n",
              "      <th>country_x</th>\n",
              "      <th></th>\n",
              "      <th></th>\n",
              "      <th></th>\n",
              "      <th></th>\n",
              "      <th></th>\n",
              "      <th></th>\n",
              "    </tr>\n",
              "  </thead>\n",
              "  <tbody>\n",
              "    <tr>\n",
              "      <th>Afghanistan</th>\n",
              "      <td>672</td>\n",
              "      <td>194195.101</td>\n",
              "      <td>120</td>\n",
              "      <td>6400.1827</td>\n",
              "      <td>120</td>\n",
              "      <td>7.653905e+11</td>\n",
              "    </tr>\n",
              "    <tr>\n",
              "      <th>Albania</th>\n",
              "      <td>1344</td>\n",
              "      <td>299800.570</td>\n",
              "      <td>240</td>\n",
              "      <td>4915.7865</td>\n",
              "      <td>240</td>\n",
              "      <td>6.320436e+11</td>\n",
              "    </tr>\n",
              "    <tr>\n",
              "      <th>Algeria</th>\n",
              "      <td>2016</td>\n",
              "      <td>4200946.580</td>\n",
              "      <td>360</td>\n",
              "      <td>10799.3070</td>\n",
              "      <td>360</td>\n",
              "      <td>1.138767e+13</td>\n",
              "    </tr>\n",
              "    <tr>\n",
              "      <th>Andorra</th>\n",
              "      <td>3360</td>\n",
              "      <td>33245.070</td>\n",
              "      <td>600</td>\n",
              "      <td>1480.0239</td>\n",
              "      <td>600</td>\n",
              "      <td>0.000000e+00</td>\n",
              "    </tr>\n",
              "    <tr>\n",
              "      <th>Angola</th>\n",
              "      <td>4032</td>\n",
              "      <td>636086.300</td>\n",
              "      <td>720</td>\n",
              "      <td>4673.5667</td>\n",
              "      <td>720</td>\n",
              "      <td>3.070059e+12</td>\n",
              "    </tr>\n",
              "    <tr>\n",
              "      <th>...</th>\n",
              "      <td>...</td>\n",
              "      <td>...</td>\n",
              "      <td>...</td>\n",
              "      <td>...</td>\n",
              "      <td>...</td>\n",
              "      <td>...</td>\n",
              "    </tr>\n",
              "    <tr>\n",
              "      <th>Wallis and Futuna Islands</th>\n",
              "      <td>147168</td>\n",
              "      <td>0.000</td>\n",
              "      <td>26280</td>\n",
              "      <td>0.0000</td>\n",
              "      <td>26280</td>\n",
              "      <td>0.000000e+00</td>\n",
              "    </tr>\n",
              "    <tr>\n",
              "      <th>Western Sahara</th>\n",
              "      <td>122976</td>\n",
              "      <td>0.000</td>\n",
              "      <td>21960</td>\n",
              "      <td>0.0000</td>\n",
              "      <td>21960</td>\n",
              "      <td>0.000000e+00</td>\n",
              "    </tr>\n",
              "    <tr>\n",
              "      <th>Yemen</th>\n",
              "      <td>149016</td>\n",
              "      <td>694978.580</td>\n",
              "      <td>26610</td>\n",
              "      <td>8475.1240</td>\n",
              "      <td>26610</td>\n",
              "      <td>2.136614e+12</td>\n",
              "    </tr>\n",
              "    <tr>\n",
              "      <th>Zambia</th>\n",
              "      <td>150192</td>\n",
              "      <td>314809.000</td>\n",
              "      <td>26820</td>\n",
              "      <td>4619.6080</td>\n",
              "      <td>26820</td>\n",
              "      <td>9.966377e+11</td>\n",
              "    </tr>\n",
              "    <tr>\n",
              "      <th>Zimbabwe</th>\n",
              "      <td>120288</td>\n",
              "      <td>828572.470</td>\n",
              "      <td>21480</td>\n",
              "      <td>5074.3008</td>\n",
              "      <td>21480</td>\n",
              "      <td>8.821068e+11</td>\n",
              "    </tr>\n",
              "  </tbody>\n",
              "</table>\n",
              "<p>220 rows × 6 columns</p>\n",
              "</div>"
            ],
            "text/plain": [
              "                           code_cdo    value_cdo  ...  code_gdp     value_gdp\n",
              "country_x                                         ...                        \n",
              "Afghanistan                     672   194195.101  ...       120  7.653905e+11\n",
              "Albania                        1344   299800.570  ...       240  6.320436e+11\n",
              "Algeria                        2016  4200946.580  ...       360  1.138767e+13\n",
              "Andorra                        3360    33245.070  ...       600  0.000000e+00\n",
              "Angola                         4032   636086.300  ...       720  3.070059e+12\n",
              "...                             ...          ...  ...       ...           ...\n",
              "Wallis and Futuna Islands    147168        0.000  ...     26280  0.000000e+00\n",
              "Western Sahara               122976        0.000  ...     21960  0.000000e+00\n",
              "Yemen                        149016   694978.580  ...     26610  2.136614e+12\n",
              "Zambia                       150192   314809.000  ...     26820  9.966377e+11\n",
              "Zimbabwe                     120288   828572.470  ...     21480  8.821068e+11\n",
              "\n",
              "[220 rows x 6 columns]"
            ]
          },
          "metadata": {
            "tags": []
          },
          "execution_count": 100
        }
      ]
    },
    {
      "cell_type": "code",
      "metadata": {
        "colab": {
          "base_uri": "https://localhost:8080/"
        },
        "id": "LCOYApbwuB7v",
        "outputId": "2366b5b1-ddb9-44b7-ffc2-cf5f6e4513ee"
      },
      "source": [
        "#correlation between cdo and gdp\n",
        "corr_cdo_gdp=gdp_cdo_pmd['value_cdo'].corr(gdp_cdo_pmd['value_gdp'])\n",
        "print(corr_cdo_gdp)"
      ],
      "execution_count": null,
      "outputs": [
        {
          "output_type": "stream",
          "text": [
            "0.9580618526943385\n"
          ],
          "name": "stdout"
        }
      ]
    },
    {
      "cell_type": "code",
      "metadata": {
        "colab": {
          "base_uri": "https://localhost:8080/"
        },
        "id": "2G_WqrFfuaDJ",
        "outputId": "9f0584a9-72b9-418b-e659-213847519757"
      },
      "source": [
        "#correlation between pmd and gdp\n",
        "corr_pmd_gdp=gdp_cdo_pmd['value_pmd'].corr(gdp_cdo_pmd['value_gdp'])\n",
        "print(corr_pmd_gdp)"
      ],
      "execution_count": null,
      "outputs": [
        {
          "output_type": "stream",
          "text": [
            "0.01828331863998047\n"
          ],
          "name": "stdout"
        }
      ]
    }
  ]
}